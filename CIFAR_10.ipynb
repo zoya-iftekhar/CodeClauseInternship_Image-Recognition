{
  "nbformat": 4,
  "nbformat_minor": 0,
  "metadata": {
    "colab": {
      "provenance": []
    },
    "kernelspec": {
      "name": "python3",
      "display_name": "Python 3"
    },
    "language_info": {
      "name": "python"
    }
  },
  "cells": [
    {
      "cell_type": "markdown",
      "source": [
        "### **Importing Libraries**"
      ],
      "metadata": {
        "id": "S3IsWayJxwtQ"
      }
    },
    {
      "cell_type": "code",
      "source": [
        "import tensorflow as tf\n",
        "from tensorflow.keras import datasets, layers, models\n",
        "import matplotlib.pyplot as plt\n",
        "import numpy as np"
      ],
      "metadata": {
        "id": "WwGcmZM8xoTy"
      },
      "execution_count": 89,
      "outputs": []
    },
    {
      "cell_type": "markdown",
      "source": [
        "### **Importing Dataset**"
      ],
      "metadata": {
        "id": "IGmPu8tRz6ai"
      }
    },
    {
      "cell_type": "code",
      "source": [
        "(X_train, y_train), (X_test, y_test) = datasets.cifar10.load_data()"
      ],
      "metadata": {
        "id": "XeapAg7O1G8E"
      },
      "execution_count": 90,
      "outputs": []
    },
    {
      "cell_type": "markdown",
      "source": [
        "### **Data Visualization**"
      ],
      "metadata": {
        "id": "8YmspFI26tj4"
      }
    },
    {
      "cell_type": "code",
      "source": [
        "X_train.shape"
      ],
      "metadata": {
        "colab": {
          "base_uri": "https://localhost:8080/"
        },
        "id": "fu08K_QJ1fDX",
        "outputId": "5b79fea5-19f7-43ca-de56-a7a0f91fc230"
      },
      "execution_count": 91,
      "outputs": [
        {
          "output_type": "execute_result",
          "data": {
            "text/plain": [
              "(50000, 32, 32, 3)"
            ]
          },
          "metadata": {},
          "execution_count": 91
        }
      ]
    },
    {
      "cell_type": "code",
      "source": [
        "y_train[:5]"
      ],
      "metadata": {
        "colab": {
          "base_uri": "https://localhost:8080/"
        },
        "id": "81MzaGGy5Mui",
        "outputId": "d9126359-129a-47b2-d287-70832b8be79d"
      },
      "execution_count": 92,
      "outputs": [
        {
          "output_type": "execute_result",
          "data": {
            "text/plain": [
              "array([[6],\n",
              "       [9],\n",
              "       [9],\n",
              "       [4],\n",
              "       [1]], dtype=uint8)"
            ]
          },
          "metadata": {},
          "execution_count": 92
        }
      ]
    },
    {
      "cell_type": "code",
      "source": [
        "y_train = y_train.reshape(-1,)\n",
        "y_train[:5]"
      ],
      "metadata": {
        "colab": {
          "base_uri": "https://localhost:8080/"
        },
        "id": "gZn_xVAi5TyY",
        "outputId": "33fe93c5-8a92-4713-c92d-163dedb39880"
      },
      "execution_count": 93,
      "outputs": [
        {
          "output_type": "execute_result",
          "data": {
            "text/plain": [
              "array([6, 9, 9, 4, 1], dtype=uint8)"
            ]
          },
          "metadata": {},
          "execution_count": 93
        }
      ]
    },
    {
      "cell_type": "code",
      "source": [
        "classes = [\"airplane\", \"automobile\", \"bird\", \"cat\", \"deer\", \"dog\", \"frog\", \"horse\", \"ship\", \"truck\"]"
      ],
      "metadata": {
        "id": "3TFbLK9b2P5K"
      },
      "execution_count": 95,
      "outputs": []
    },
    {
      "cell_type": "code",
      "source": [
        "def plot_image(X, y, index):\n",
        "  plt.figure(figsize = (15,2))\n",
        "  plt.imshow(X[index])\n",
        "  plt.xlabel(classes[y[index]])"
      ],
      "metadata": {
        "id": "oEOU7ags2Tug"
      },
      "execution_count": 94,
      "outputs": []
    },
    {
      "cell_type": "code",
      "source": [
        "plot_image(X_train, y_train, 5)"
      ],
      "metadata": {
        "colab": {
          "base_uri": "https://localhost:8080/",
          "height": 237
        },
        "id": "wQxC6mTn6O0Z",
        "outputId": "608f1b53-0dbd-4ce3-caa7-275232e380ea"
      },
      "execution_count": 96,
      "outputs": [
        {
          "output_type": "display_data",
          "data": {
            "text/plain": [
              "<Figure size 1500x200 with 1 Axes>"
            ],
            "image/png": "[encoded data removed]"
          },
          "metadata": {}
        }
      ]
    },
    {
      "cell_type": "code",
      "source": [
        "plot_image(X_train, y_train, 8)"
      ],
      "metadata": {
        "colab": {
          "base_uri": "https://localhost:8080/",
          "height": 237
        },
        "id": "uROmKhlk6VE3",
        "outputId": "713750bc-da05-470c-84bd-ff140bf19f28"
      },
      "execution_count": 97,
      "outputs": [
        {
          "output_type": "display_data",
          "data": {
            "text/plain": [
              "<Figure size 1500x200 with 1 Axes>"
            ],
            "image/png": "[encoded data removed]"
          },
          "metadata": {}
        }
      ]
    },
    {
      "cell_type": "code",
      "source": [
        "X_train = X_train / 255\n",
        "X_test = X_test / 255"
      ],
      "metadata": {
        "id": "1LCpzkHY6eTu"
      },
      "execution_count": 98,
      "outputs": []
    },
    {
      "cell_type": "markdown",
      "source": [
        "### **Building CNN Model**"
      ],
      "metadata": {
        "id": "SkFslUGgI3_Z"
      }
    },
    {
      "cell_type": "code",
      "source": [
        "cnn = models.Sequential([\n",
        "    #cnn layers\n",
        "    layers.Conv2D(filters = 32, kernel_size = (3,3), activation = 'relu', input_shape = (32,32,3)),\n",
        "    layers.MaxPooling2D((2,2)),\n",
        "    layers.Conv2D(filters = 32, kernel_size = (3,3), activation = 'relu', input_shape = (32,32,3)),\n",
        "    layers.MaxPooling2D((2,2)),\n",
        "\n",
        "    #dense layers\n",
        "    layers.Flatten(),\n",
        "    layers.Dense(64, activation = 'relu'),\n",
        "    layers.Dense(10, activation = 'softmax')\n",
        "])"
      ],
      "metadata": {
        "id": "aH_ialNH7M6s"
      },
      "execution_count": 99,
      "outputs": []
    },
    {
      "cell_type": "code",
      "source": [
        "cnn.compile(optimizer = 'adam',\n",
        "              loss = 'sparse_categorical_crossentropy',\n",
        "              metrics = ['accuracy'])"
      ],
      "metadata": {
        "id": "ylYwtq3JFxQe"
      },
      "execution_count": 100,
      "outputs": []
    },
    {
      "cell_type": "code",
      "source": [
        "cnn.fit(X_train, y_train, epochs=30)"
      ],
      "metadata": {
        "id": "gowRpwWMGDMK",
        "outputId": "1fd90c59-a713-4d9a-b9f1-bd06991f4b2c",
        "colab": {
          "base_uri": "https://localhost:8080/"
        }
      },
      "execution_count": 87,
      "outputs": [
        {
          "output_type": "stream",
          "name": "stdout",
          "text": [
            "Epoch 1/30\n",
            "1563/1563 [==============================] - 50s 32ms/step - loss: 0.4107 - accuracy: 0.8521\n",
            "Epoch 2/30\n",
            "1563/1563 [==============================] - 49s 31ms/step - loss: 0.3998 - accuracy: 0.8569\n",
            "Epoch 3/30\n",
            "1563/1563 [==============================] - 50s 32ms/step - loss: 0.3959 - accuracy: 0.8577\n",
            "Epoch 4/30\n",
            "1563/1563 [==============================] - 50s 32ms/step - loss: 0.3825 - accuracy: 0.8635\n",
            "Epoch 5/30\n",
            "1563/1563 [==============================] - 50s 32ms/step - loss: 0.3744 - accuracy: 0.8660\n",
            "Epoch 6/30\n",
            "1563/1563 [==============================] - 49s 32ms/step - loss: 0.3645 - accuracy: 0.8679\n",
            "Epoch 7/30\n",
            "1563/1563 [==============================] - 49s 32ms/step - loss: 0.3540 - accuracy: 0.8726\n",
            "Epoch 8/30\n",
            "1563/1563 [==============================] - 51s 33ms/step - loss: 0.3440 - accuracy: 0.8763\n",
            "Epoch 9/30\n",
            "1563/1563 [==============================] - 50s 32ms/step - loss: 0.3413 - accuracy: 0.8770\n",
            "Epoch 10/30\n",
            "1563/1563 [==============================] - 50s 32ms/step - loss: 0.3321 - accuracy: 0.8817\n",
            "Epoch 11/30\n",
            "1563/1563 [==============================] - 50s 32ms/step - loss: 0.3225 - accuracy: 0.8836\n",
            "Epoch 12/30\n",
            "1563/1563 [==============================] - 49s 31ms/step - loss: 0.3122 - accuracy: 0.8875\n",
            "Epoch 13/30\n",
            "1563/1563 [==============================] - 55s 35ms/step - loss: 0.3059 - accuracy: 0.8902\n",
            "Epoch 14/30\n",
            "1563/1563 [==============================] - 50s 32ms/step - loss: 0.2974 - accuracy: 0.8927\n",
            "Epoch 15/30\n",
            "1563/1563 [==============================] - 50s 32ms/step - loss: 0.2912 - accuracy: 0.8953\n",
            "Epoch 16/30\n",
            "1563/1563 [==============================] - 50s 32ms/step - loss: 0.2845 - accuracy: 0.8969\n",
            "Epoch 17/30\n",
            "1563/1563 [==============================] - 53s 34ms/step - loss: 0.2790 - accuracy: 0.8980\n",
            "Epoch 18/30\n",
            "1563/1563 [==============================] - 52s 33ms/step - loss: 0.2731 - accuracy: 0.9031\n",
            "Epoch 19/30\n",
            "1563/1563 [==============================] - 51s 33ms/step - loss: 0.2666 - accuracy: 0.9029\n",
            "Epoch 20/30\n",
            "1563/1563 [==============================] - 52s 33ms/step - loss: 0.2576 - accuracy: 0.9070\n",
            "Epoch 21/30\n",
            "1563/1563 [==============================] - 51s 33ms/step - loss: 0.2604 - accuracy: 0.9056\n",
            "Epoch 22/30\n",
            "1563/1563 [==============================] - 50s 32ms/step - loss: 0.2442 - accuracy: 0.9107\n",
            "Epoch 23/30\n",
            "1563/1563 [==============================] - 50s 32ms/step - loss: 0.2409 - accuracy: 0.9124\n",
            "Epoch 24/30\n",
            "1563/1563 [==============================] - 50s 32ms/step - loss: 0.2449 - accuracy: 0.9121\n",
            "Epoch 25/30\n",
            "1563/1563 [==============================] - 49s 31ms/step - loss: 0.2297 - accuracy: 0.9165\n",
            "Epoch 26/30\n",
            "1563/1563 [==============================] - 50s 32ms/step - loss: 0.2346 - accuracy: 0.9151\n",
            "Epoch 27/30\n",
            "1563/1563 [==============================] - 50s 32ms/step - loss: 0.2224 - accuracy: 0.9188\n",
            "Epoch 28/30\n",
            "1563/1563 [==============================] - 51s 32ms/step - loss: 0.2230 - accuracy: 0.9190\n",
            "Epoch 29/30\n",
            "1563/1563 [==============================] - 51s 32ms/step - loss: 0.2153 - accuracy: 0.9211\n",
            "Epoch 30/30\n",
            "1563/1563 [==============================] - 50s 32ms/step - loss: 0.2105 - accuracy: 0.9236\n"
          ]
        },
        {
          "output_type": "execute_result",
          "data": {
            "text/plain": [
              "<keras.src.callbacks.History at 0x7d90d024bd60>"
            ]
          },
          "metadata": {},
          "execution_count": 87
        }
      ]
    },
    {
      "cell_type": "code",
      "source": [
        "cnn.evaluate(X_test, y_test)"
      ],
      "metadata": {
        "id": "jgQaKD6mGIs-",
        "outputId": "9a25a2bf-0d5b-48a6-ecc7-9a6704abe86d",
        "colab": {
          "base_uri": "https://localhost:8080/"
        }
      },
      "execution_count": 101,
      "outputs": [
        {
          "output_type": "stream",
          "name": "stdout",
          "text": [
            "313/313 [==============================] - 5s 14ms/step - loss: 2.3166 - accuracy: 0.0973\n"
          ]
        },
        {
          "output_type": "execute_result",
          "data": {
            "text/plain": [
              "[2.3165597915649414, 0.09730000048875809]"
            ]
          },
          "metadata": {},
          "execution_count": 101
        }
      ]
    },
    {
      "cell_type": "markdown",
      "source": [
        "### **Testing the model**"
      ],
      "metadata": {
        "id": "fBWd82-YPAPW"
      }
    },
    {
      "cell_type": "code",
      "source": [
        "y_test = y_test.reshape(-1,)\n",
        "plot_image(X_test, y_test, 1)"
      ],
      "metadata": {
        "id": "WCdPT5tIIoc4",
        "outputId": "3b5fc6f2-59e5-4b7b-910b-68af37b57293",
        "colab": {
          "base_uri": "https://localhost:8080/",
          "height": 237
        }
      },
      "execution_count": 102,
      "outputs": [
        {
          "output_type": "display_data",
          "data": {
            "text/plain": [
              "<Figure size 1500x200 with 1 Axes>"
            ],
            "image/png": "[encoded data removed]"
          },
          "metadata": {}
        }
      ]
    },
    {
      "cell_type": "code",
      "source": [
        "y_pred = cnn.predict(X_test)\n",
        "y_pred[:5]"
      ],
      "metadata": {
        "id": "W-Vl3TMGJMLy",
        "outputId": "ef41e92b-6462-498a-a381-e11fb776064f",
        "colab": {
          "base_uri": "https://localhost:8080/"
        }
      },
      "execution_count": 103,
      "outputs": [
        {
          "output_type": "stream",
          "name": "stdout",
          "text": [
            "313/313 [==============================] - 3s 10ms/step\n"
          ]
        },
        {
          "output_type": "execute_result",
          "data": {
            "text/plain": [
              "array([[0.09825768, 0.11792458, 0.11020608, 0.08604657, 0.10646816,\n",
              "        0.08771062, 0.1150746 , 0.09342404, 0.10633855, 0.07854903],\n",
              "       [0.09540606, 0.13294737, 0.10723073, 0.08061844, 0.1069577 ,\n",
              "        0.08608132, 0.12138464, 0.07973403, 0.11537109, 0.07426862],\n",
              "       [0.09744278, 0.12531644, 0.10110676, 0.0824361 , 0.10867328,\n",
              "        0.08742654, 0.12035998, 0.08270442, 0.11050926, 0.08402444],\n",
              "       [0.09257424, 0.13000746, 0.10817382, 0.07819932, 0.11066274,\n",
              "        0.09062888, 0.1182308 , 0.08622143, 0.10927826, 0.07602316],\n",
              "       [0.10045652, 0.11408251, 0.10554922, 0.08704564, 0.10961864,\n",
              "        0.08910551, 0.11196855, 0.08837306, 0.10920769, 0.08459248]],\n",
              "      dtype=float32)"
            ]
          },
          "metadata": {},
          "execution_count": 103
        }
      ]
    },
    {
      "cell_type": "code",
      "source": [
        "y_classes = [np.argmax(element) for element in y_pred]\n",
        "y_classes[:5]"
      ],
      "metadata": {
        "id": "k0WInlrqJcH2",
        "outputId": "031df183-e148-4095-f69e-4c0ce71cf015",
        "colab": {
          "base_uri": "https://localhost:8080/"
        }
      },
      "execution_count": 104,
      "outputs": [
        {
          "output_type": "execute_result",
          "data": {
            "text/plain": [
              "[1, 1, 1, 1, 1]"
            ]
          },
          "metadata": {},
          "execution_count": 104
        }
      ]
    },
    {
      "cell_type": "code",
      "source": [
        "y_test[:5]"
      ],
      "metadata": {
        "id": "SsD7uycAJp4o",
        "outputId": "1ee5543c-c143-42e9-8b24-4f01c34f6e49",
        "colab": {
          "base_uri": "https://localhost:8080/"
        }
      },
      "execution_count": 105,
      "outputs": [
        {
          "output_type": "execute_result",
          "data": {
            "text/plain": [
              "array([3, 8, 8, 0, 6], dtype=uint8)"
            ]
          },
          "metadata": {},
          "execution_count": 105
        }
      ]
    },
    {
      "cell_type": "code",
      "source": [
        "plot_image(X_test, y_test, 2)"
      ],
      "metadata": {
        "id": "PDJUMD4bJ7qI",
        "outputId": "99dfac4d-0222-4062-b6fb-5d8b99cd56b7",
        "colab": {
          "base_uri": "https://localhost:8080/",
          "height": 237
        }
      },
      "execution_count": 106,
      "outputs": [
        {
          "output_type": "display_data",
          "data": {
            "text/plain": [
              "<Figure size 1500x200 with 1 Axes>"
            ],
            "image/png": "[encoded data removed]"
          },
          "metadata": {}
        }
      ]
    },
    {
      "cell_type": "code",
      "source": [
        "classes[y_classes[2]]"
      ],
      "metadata": {
        "id": "gQW9YjH_KJkZ",
        "outputId": "24bb96a1-2635-4d04-dea6-a20a5ba81ab7",
        "colab": {
          "base_uri": "https://localhost:8080/",
          "height": 35
        }
      },
      "execution_count": 107,
      "outputs": [
        {
          "output_type": "execute_result",
          "data": {
            "text/plain": [
              "'automobile'"
            ],
            "application/vnd.google.colaboratory.intrinsic+json": {
              "type": "string"
            }
          },
          "metadata": {},
          "execution_count": 107
        }
      ]
    },
    {
      "cell_type": "markdown",
      "source": [
        "### **Classification Report**"
      ],
      "metadata": {
        "id": "jtc214c1O4O9"
      }
    },
    {
      "cell_type": "code",
      "source": [
        "from sklearn.metrics import confusion_matrix, classification_report\n",
        "import numpy as np\n",
        "report = classification_report(y_test, y_classes)\n",
        "print(\"Classification report: \\n\", report)"
      ],
      "metadata": {
        "id": "RT-KRF73KOsQ",
        "outputId": "3b78940d-171b-4f4f-9e1c-1bb18933612b",
        "colab": {
          "base_uri": "https://localhost:8080/"
        }
      },
      "execution_count": 108,
      "outputs": [
        {
          "output_type": "stream",
          "name": "stdout",
          "text": [
            "Classification report: \n",
            "               precision    recall  f1-score   support\n",
            "\n",
            "           0       0.00      0.00      0.00      1000\n",
            "           1       0.10      0.76      0.18      1000\n",
            "           2       0.09      0.00      0.01      1000\n",
            "           3       0.00      0.00      0.00      1000\n",
            "           4       0.10      0.01      0.02      1000\n",
            "           5       0.00      0.00      0.00      1000\n",
            "           6       0.09      0.19      0.13      1000\n",
            "           7       0.00      0.00      0.00      1000\n",
            "           8       0.03      0.01      0.01      1000\n",
            "           9       0.00      0.00      0.00      1000\n",
            "\n",
            "    accuracy                           0.10     10000\n",
            "   macro avg       0.04      0.10      0.03     10000\n",
            "weighted avg       0.04      0.10      0.03     10000\n",
            "\n"
          ]
        },
        {
          "output_type": "stream",
          "name": "stderr",
          "text": [
            "/usr/local/lib/python3.10/dist-packages/sklearn/metrics/_classification.py:1344: UndefinedMetricWarning: Precision and F-score are ill-defined and being set to 0.0 in labels with no predicted samples. Use `zero_division` parameter to control this behavior.\n",
            "  _warn_prf(average, modifier, msg_start, len(result))\n",
            "/usr/local/lib/python3.10/dist-packages/sklearn/metrics/_classification.py:1344: UndefinedMetricWarning: Precision and F-score are ill-defined and being set to 0.0 in labels with no predicted samples. Use `zero_division` parameter to control this behavior.\n",
            "  _warn_prf(average, modifier, msg_start, len(result))\n",
            "/usr/local/lib/python3.10/dist-packages/sklearn/metrics/_classification.py:1344: UndefinedMetricWarning: Precision and F-score are ill-defined and being set to 0.0 in labels with no predicted samples. Use `zero_division` parameter to control this behavior.\n",
            "  _warn_prf(average, modifier, msg_start, len(result))\n"
          ]
        }
      ]
    }
  ]
}